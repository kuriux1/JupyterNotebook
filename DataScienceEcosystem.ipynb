{
 "cells": [
  {
   "cell_type": "markdown",
   "id": "43290d3b-32b0-4aa3-baaa-80b1f35615cd",
   "metadata": {},
   "source": [
    "# Data Science Tools and Ecosystem"
   ]
  },
  {
   "cell_type": "markdown",
   "id": "e183f80f-afaf-4518-b8f3-31a3a43d7470",
   "metadata": {},
   "source": [
    "In this notebook, Data Science Tools and Ecosystem are summarized."
   ]
  },
  {
   "cell_type": "markdown",
   "id": "2e0f7dfc-f7e3-445e-8b4a-6c6541d56ae8",
   "metadata": {},
   "source": [
    "**Objectives:**\n",
    "\n",
    "- popular languages\n",
    "- commonly used libraries\n",
    "- arithmetic expressions\n",
    "- formulas"
   ]
  },
  {
   "cell_type": "markdown",
   "id": "81148285-fdc8-4edf-97fd-a493f730ac07",
   "metadata": {},
   "source": [
    "Some of the popular languages that Data Scientists use are:"
   ]
  },
  {
   "cell_type": "markdown",
   "id": "8086885e-606c-42b3-a966-030a19ad9867",
   "metadata": {},
   "source": [
    "1. Python\n",
    "2. R\n",
    "3. Scala\n"
   ]
  },
  {
   "cell_type": "markdown",
   "id": "dec27865-f8cf-4f1c-ab64-d83727ae1ed3",
   "metadata": {},
   "source": [
    "Some of the commonly used libraries used by Data Scientists include:\n",
    "\n",
    "1.TensorFlow\n",
    "2.NumPy\n",
    "3.SciPy\n"
   ]
  },
  {
   "cell_type": "markdown",
   "id": "69442e0d-9052-4f1b-9435-a90a43fe66ce",
   "metadata": {},
   "source": [
    "| Data Science Tools     |\n",
    "|------------------------|\n",
    "| Jupyter Notebook       |\n",
    "| RStudio                |\n",
    "| Apache Zeppelin        |\n"
   ]
  },
  {
   "cell_type": "markdown",
   "id": "31560874-5186-4e21-941c-ee9d21f3d7fb",
   "metadata": {},
   "source": [
    "### Below are a few examples of evaluating arithmetic expressions in Python.\n"
   ]
  },
  {
   "cell_type": "code",
   "execution_count": 3,
   "id": "d4f424d7-6f8b-486f-a05d-521fecc9a466",
   "metadata": {
    "tags": []
   },
   "outputs": [
    {
     "data": {
      "text/plain": [
       "17"
      ]
     },
     "execution_count": 3,
     "metadata": {},
     "output_type": "execute_result"
    }
   ],
   "source": [
    "# This is a simple arithmetic expression to multiply then add integers.\n",
    "result = (3*4) + 5\n",
    "result\n"
   ]
  },
  {
   "cell_type": "code",
   "execution_count": 4,
   "id": "94bd6731-188b-44e0-95a4-c902c957fd6b",
   "metadata": {
    "tags": []
   },
   "outputs": [
    {
     "data": {
      "text/plain": [
       "3.3333333333333335"
      ]
     },
     "execution_count": 4,
     "metadata": {},
     "output_type": "execute_result"
    }
   ],
   "source": [
    "# This will convert 200 minutes to hours by dividing by 60.\n",
    "hours = 200 / 60\n",
    "hours"
   ]
  },
  {
   "cell_type": "markdown",
   "id": "b2534a9c-bce9-4673-a5c3-35032ef96bac",
   "metadata": {},
   "source": [
    "## Author\n",
    "Nelson Ortega"
   ]
  },
  {
   "cell_type": "code",
   "execution_count": null,
   "id": "681b1056-33a8-4154-abc2-93892c3b981d",
   "metadata": {},
   "outputs": [],
   "source": []
  }
 ],
 "metadata": {
  "kernelspec": {
   "display_name": "Python 3 (ipykernel)",
   "language": "python",
   "name": "python3"
  },
  "language_info": {
   "codemirror_mode": {
    "name": "ipython",
    "version": 3
   },
   "file_extension": ".py",
   "mimetype": "text/x-python",
   "name": "python",
   "nbconvert_exporter": "python",
   "pygments_lexer": "ipython3",
   "version": "3.11.5"
  }
 },
 "nbformat": 4,
 "nbformat_minor": 5
}
